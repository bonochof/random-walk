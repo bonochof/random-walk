{
 "cells": [
  {
   "cell_type": "code",
   "execution_count": 1,
   "metadata": {},
   "outputs": [
    {
     "name": "stdout",
     "output_type": "stream",
     "text": [
      "finished: 45 steps\n"
     ]
    }
   ],
   "source": [
    "%matplotlib nbagg\n",
    "import matplotlib.pyplot as plt\n",
    "import matplotlib.animation as animation\n",
    "import numpy as np\n",
    "import random\n",
    "N=1\n",
    "n=10000\n",
    "SIZE=100\n",
    "LIMIT = 10\n",
    "SELF_AVOID = False\n",
    "\n",
    "class Agent:\n",
    "    def __init__(self):\n",
    "        self.reset()\n",
    "        \n",
    "    def reset(self):\n",
    "        self.init_x = np.random.randint(0,SIZE)\n",
    "        self.init_y = np.random.randint(0,SIZE)\n",
    "        self.x = self.init_x\n",
    "        self.y = self.init_y\n",
    "        self.field =[[0 for i in range(SIZE)] for j in range(SIZE)]\n",
    "        \n",
    "    def move(self):\n",
    "        while (True):\n",
    "            # ランダムに4方向\n",
    "            r=np.random.randint(0, 4)\n",
    "            \n",
    "            if not(SELF_AVOID):\n",
    "                break\n",
    "            \n",
    "            # 行き場所が無い場合リセット\n",
    "            if ((self.field[(self.y+SIZE-1)%SIZE][self.x] == 2) and\n",
    "                (self.field[self.y][(self.x+SIZE-1)%SIZE] == 2) and\n",
    "                (self.field[(self.y+1)%SIZE][self.x] == 2) and\n",
    "                (self.field[self.y][(self.x+1)%SIZE] == 2)):\n",
    "                self.reset()\n",
    "                break\n",
    "            \n",
    "            # 行き場所がある場合そこに行く\n",
    "            if ((r==0 and self.field[(self.y+SIZE-1)%SIZE][self.x] == 0) or\n",
    "                (r==1 and self.field[self.y][(self.x+SIZE-1)%SIZE] == 0) or\n",
    "                (r==2 and self.field[(self.y+1)%SIZE][self.x] == 0) or\n",
    "                (r==3 and self.field[self.y][(self.x+1)%SIZE] == 0)):\n",
    "                break\n",
    "        \n",
    "        self.field[agent.y][agent.x]=2\n",
    "        \n",
    "        # 移動\n",
    "        if r==0:\n",
    "            self.y = (self.y+SIZE-1)%SIZE\n",
    "        elif r==1:\n",
    "            self.x =(self.x+SIZE-1)%SIZE\n",
    "        elif r==2:\n",
    "            self.y = (self.y+1)%SIZE\n",
    "        elif r==3:\n",
    "            self.x = (self.x+1)%SIZE\n",
    "        \n",
    "        self.field[agent.y][agent.x]=1\n",
    "        \n",
    "    def check(self):\n",
    "        if ((self.x == (self.init_x + LIMIT) % SIZE) or\n",
    "            (self.x == (self.init_x + SIZE - LIMIT) % SIZE) or\n",
    "            (self.y == (self.init_y + LIMIT) % SIZE) or\n",
    "            (self.y == (self.init_y + SIZE - LIMIT) % SIZE)):\n",
    "            return True\n",
    "        else:\n",
    "            return False\n",
    "        \n",
    "agent=Agent()\n",
    "\n",
    "#fig=plt.figure(figsize=(8, 8))\n",
    "#ims = []\n",
    "for j in range(n):\n",
    "    agent.move()\n",
    "    #im=plt.imshow(agent.field, animated=True)\n",
    "    #ims.append([im])\n",
    "    if agent.check():\n",
    "        print('finished: {} steps'.format(j))\n",
    "        break\n",
    "#ani=animation.ArtistAnimation(fig, ims,interval=3000)\n",
    "#plt.show()"
   ]
  },
  {
   "cell_type": "code",
   "execution_count": null,
   "metadata": {},
   "outputs": [],
   "source": []
  }
 ],
 "metadata": {
  "kernelspec": {
   "display_name": "Python 3",
   "language": "python",
   "name": "python3"
  },
  "language_info": {
   "codemirror_mode": {
    "name": "ipython",
    "version": 3
   },
   "file_extension": ".py",
   "mimetype": "text/x-python",
   "name": "python",
   "nbconvert_exporter": "python",
   "pygments_lexer": "ipython3",
   "version": "3.7.1"
  }
 },
 "nbformat": 4,
 "nbformat_minor": 2
}
